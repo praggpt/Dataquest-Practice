{
 "cells": [
  {
   "cell_type": "code",
   "execution_count": 7,
   "metadata": {},
   "outputs": [
    {
     "name": "stderr",
     "output_type": "stream",
     "text": [
      "C:\\Users\\pragg\\Anaconda3\\lib\\site-packages\\ipykernel_launcher.py:4: FutureWarning: read_table is deprecated, use read_csv instead, passing sep='\\t'.\n",
      "  after removing the cwd from sys.path.\n"
     ]
    }
   ],
   "source": [
    "import pandas as pd\n",
    "import numpy as np\n",
    "import matplotlib.pyplot as plt\n",
    "houses = pd.read_table('AmesHousing_1.txt')\n",
    "%matplotlib inline"
   ]
  },
  {
   "cell_type": "code",
   "execution_count": 9,
   "metadata": {},
   "outputs": [
    {
     "data": {
      "text/plain": [
       "<matplotlib.legend.Legend at 0x297aa314d68>"
      ]
     },
     "execution_count": 9,
     "metadata": {},
     "output_type": "execute_result"
    },
    {
     "data": {
      "image/png": "[encoded data removed]",
      "text/plain": [
       "<Figure size 432x288 with 1 Axes>"
      ]
     },
     "metadata": {
      "needs_background": "light"
     },
     "output_type": "display_data"
    }
   ],
   "source": [
    "houses['SalePrice'].plot.kde(xlim=(houses['SalePrice'].min(),houses['SalePrice'].max()))\n",
    "mean = houses['SalePrice'].mean()\n",
    "stdev = houses['SalePrice'].std(ddof=0)\n",
    "plt.axvline(mean, color = 'black', label = 'Mean')\n",
    "plt.axvline(mean+stdev, color = 'red',label='Standard deviation')\n",
    "plt.axvline(220000, color='orange',label='220000')\n",
    "plt.legend()"
   ]
  },
  {
   "cell_type": "code",
   "execution_count": 10,
   "metadata": {},
   "outputs": [],
   "source": [
    "st_devs_away = (220000-mean)/stdev"
   ]
  },
  {
   "cell_type": "code",
   "execution_count": 11,
   "metadata": {},
   "outputs": [
    {
     "data": {
      "text/plain": [
       "0.4908280788718362"
      ]
     },
     "execution_count": 11,
     "metadata": {},
     "output_type": "execute_result"
    }
   ],
   "source": [
    "st_devs_away"
   ]
  },
  {
   "cell_type": "code",
   "execution_count": 15,
   "metadata": {},
   "outputs": [],
   "source": [
    "def zscore(val,arr):\n",
    "    mean = sum(arr)/len(arr)\n",
    "    stdev=np.std(arr, ddof=1)\n",
    "    distance = val-mean\n",
    "    z_score = distance/stdev\n",
    "    return z_score"
   ]
  },
  {
   "cell_type": "code",
   "execution_count": 16,
   "metadata": {},
   "outputs": [],
   "source": [
    "min_val = houses['SalePrice'].min()\n",
    "mean_val = houses['SalePrice'].mean()\n",
    "max_val = houses['SalePrice'].max()"
   ]
  },
  {
   "cell_type": "code",
   "execution_count": 17,
   "metadata": {},
   "outputs": [],
   "source": [
    "min_z=zscore(min_val,houses['SalePrice'])\n",
    "max_z=zscore(max_val,houses['SalePrice'])\n",
    "mean_z=zscore(mean_val,houses['SalePrice'])"
   ]
  },
  {
   "cell_type": "code",
   "execution_count": 18,
   "metadata": {},
   "outputs": [
    {
     "name": "stdout",
     "output_type": "stream",
     "text": [
      "-2.103066920309695 7.187729557860895 0.0\n"
     ]
    }
   ],
   "source": [
    "print(min_z, max_z, mean_z)"
   ]
  },
  {
   "cell_type": "markdown",
   "metadata": {},
   "source": [
    "## Locating values in different distributions\n",
    "From the 5 neighbourhoods, we are trying to understand where $200,000 is closest to the mean and therefore the best investment in a relative sense. We do this by finding the z-score and picking the one closest to 0"
   ]
  },
  {
   "cell_type": "code",
   "execution_count": 21,
   "metadata": {},
   "outputs": [
    {
     "data": {
      "text/plain": [
       "31882.707228865536"
      ]
     },
     "execution_count": 21,
     "metadata": {},
     "output_type": "execute_result"
    }
   ],
   "source": [
    "houses[houses['Neighborhood']=='NAmes']['SalePrice'].std(ddof=1)"
   ]
  },
  {
   "cell_type": "code",
   "execution_count": 22,
   "metadata": {},
   "outputs": [],
   "source": [
    "nhoods=['NAmes','CollgCr','OldTown','Edwards','Somerst']\n",
    "z_scores={}\n",
    "for x in nhoods:\n",
    "    neighborhood=houses[houses['Neighborhood']==x]\n",
    "    z_scores[x]=zscore(200000,neighborhood['SalePrice'])"
   ]
  },
  {
   "cell_type": "code",
   "execution_count": 23,
   "metadata": {},
   "outputs": [
    {
     "data": {
      "text/plain": [
       "{'NAmes': 1.722019705502292,\n",
       " 'CollgCr': -0.03328116293550407,\n",
       " 'OldTown': 1.714709537757288,\n",
       " 'Edwards': 1.4398508297188277,\n",
       " 'Somerst': -0.517212269518196}"
      ]
     },
     "execution_count": 23,
     "metadata": {},
     "output_type": "execute_result"
    }
   ],
   "source": [
    "z_scores"
   ]
  },
  {
   "cell_type": "markdown",
   "metadata": {},
   "source": [
    "## Standard distribution\n",
    "Alright so now we know how to calculate z-scores. If we go one step further and plot z-scores on a histogram, we'll se that it looks exactly like the population histogram because it preserves the relative distance of each point from the other.\n",
    "\n",
    "If we look for the mean and standard deviation of the collection of z-scores, we'll find that mean nearly = 0 and standard deviation nearly equals 1. If you plot the distance between z-scores to mean, you will get a standardized distribution"
   ]
  },
  {
   "cell_type": "markdown",
   "metadata": {},
   "source": [
    "### Why is this ever useful\n",
    "To compare across different scales and units. If you standardize the distributions, you will be comparing z-scores on a relative scale. z-scores closer to 0 are more similar to the average.\n",
    "\n"
   ]
  }
 ],
 "metadata": {
  "kernelspec": {
   "display_name": "Python 3",
   "language": "python",
   "name": "python3"
  },
  "language_info": {
   "codemirror_mode": {
    "name": "ipython",
    "version": 3
   },
   "file_extension": ".py",
   "mimetype": "text/x-python",
   "name": "python",
   "nbconvert_exporter": "python",
   "pygments_lexer": "ipython3",
   "version": "3.6.7"
  }
 },
 "nbformat": 4,
 "nbformat_minor": 2
}
